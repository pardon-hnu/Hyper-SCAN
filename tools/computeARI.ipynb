{
 "cells": [
  {
   "cell_type": "code",
   "execution_count": 1,
   "metadata": {},
   "outputs": [],
   "source": [
    "import math\n",
    "import os\n",
    "import sys\n",
    "sys.path.append(\"..\")\n",
    "import argparse\n",
    "import string\n",
    "import re"
   ]
  },
  {
   "cell_type": "code",
   "execution_count": null,
   "metadata": {},
   "outputs": [],
   "source": []
  },
  {
   "cell_type": "markdown",
   "metadata": {},
   "source": [
    "set global variables"
   ]
  },
  {
   "cell_type": "code",
   "execution_count": 2,
   "metadata": {},
   "outputs": [],
   "source": [
    "epsilon1=['0.250000','0.350000','0.450000','0.550000','0.650000','0.750000']\n",
    "epsilon2=['0.300000','0.400000','0.500000','0.600000','0.700000','0.800000']\n",
    "mu=['2','5','10','15']\n",
    "\n",
    "hypergraph='/home/hnu/Disk0/ParDon/hypergraph/vldb23NeighborCore/real/DBLP.hyp'\n",
    "cluster_path='/home/hnu/Disk0/llw/my_cpp12_hash/output_lab1_csv/cluster_optimize_index_dblp'\n",
    "output_file='dblp2.txt'"
   ]
  },
  {
   "cell_type": "markdown",
   "metadata": {},
   "source": [
    "load hypergraph"
   ]
  },
  {
   "cell_type": "code",
   "execution_count": 3,
   "metadata": {},
   "outputs": [],
   "source": [
    "def read_graph(hypergraph):\n",
    "    n=0\n",
    "    infile=open(hypergraph,'r')\n",
    "    for line in infile:\n",
    "        temp_string=line.strip('\\n')\n",
    "        if temp_string!='':\n",
    "            n+=1\n",
    "    infile.close()\n",
    "    print(str(n))\n",
    "    return n"
   ]
  },
  {
   "cell_type": "markdown",
   "metadata": {},
   "source": [
    "load cluster result 1 (true labels)"
   ]
  },
  {
   "cell_type": "code",
   "execution_count": 4,
   "metadata": {},
   "outputs": [],
   "source": [
    "def read_label(cluster1,n):\n",
    "    c1=[]\n",
    "    ed={}\n",
    "    infile=open(cluster1,'r')\n",
    "    for line in infile:\n",
    "        temp_string=line.strip('\\n')\n",
    "        temp=re.split(',',temp_string)\n",
    "        c={}\n",
    "        for str_e in temp:\n",
    "            if str_e!='':\n",
    "                c[int(str_e)]='exist'\n",
    "                ed[int(str_e)]='exist'\n",
    "        c1.append(c)\n",
    "    infile.close()\n",
    "    print('true label num: '+str(len(c1)))\n",
    "    c_temp={}\n",
    "    for i in range(n):\n",
    "        if i not in ed.keys():\n",
    "            c_temp[i]='exist'\n",
    "    c1.append(c_temp)\n",
    "    return c1"
   ]
  },
  {
   "cell_type": "markdown",
   "metadata": {},
   "source": [
    "load cluster result 2 (cluster labels)"
   ]
  },
  {
   "cell_type": "code",
   "execution_count": 5,
   "metadata": {},
   "outputs": [],
   "source": [
    "def read_cluster(cluster2,n):\n",
    "    c2=[]\n",
    "    ed={}\n",
    "    infile=open(cluster2,'r')\n",
    "    for line in infile:\n",
    "        temp_string=line.strip('\\n')\n",
    "        temp=re.split(',',temp_string)\n",
    "        c=[]\n",
    "        for str_e in temp:\n",
    "            if str_e!='':\n",
    "                c.append(int(str_e))\n",
    "                ed[int(str_e)]='exist'\n",
    "        c2.append(c)\n",
    "    infile.close()\n",
    "    print('cluster label num: '+str(len(c2)))\n",
    "    c_temp=[]\n",
    "    for i in range(n):\n",
    "        if i not in ed.keys():\n",
    "            c_temp.append(i)\n",
    "    c2.append(c_temp)\n",
    "    return c2"
   ]
  },
  {
   "cell_type": "markdown",
   "metadata": {},
   "source": [
    "construct contingency table"
   ]
  },
  {
   "cell_type": "code",
   "execution_count": 6,
   "metadata": {},
   "outputs": [],
   "source": [
    "def construct_table(c1,c2):\n",
    "    contingency_table=[]\n",
    "    sum_cluster_in_label=[]\n",
    "    sum_label_in_cluster=[]\n",
    "    for i in range(len(c1)):\n",
    "        table=[]\n",
    "        if i%1000==0 :\n",
    "            print('i: '+str(i))\n",
    "        for c in c2:\n",
    "            sum=0\n",
    "            for e in c:\n",
    "                if e in c1[i].keys():\n",
    "                    sum+=1\n",
    "            table.append(sum)\n",
    "        contingency_table.append(table)\n",
    "    print('main table is constructed')\n",
    "\n",
    "    for i in range(len(contingency_table)):\n",
    "        sum=0\n",
    "        for num in contingency_table[i]:\n",
    "            sum+=num\n",
    "        sum_label_in_cluster.append(sum)\n",
    "    print('b list is constructed')\n",
    "\n",
    "    for i in range(len(contingency_table[0])):\n",
    "        sum=0\n",
    "        for j in range(len(contingency_table)):\n",
    "            sum+=contingency_table[j][i]\n",
    "        sum_cluster_in_label.append(sum)\n",
    "    print('a list is constructed')\n",
    "    return contingency_table,sum_cluster_in_label,sum_label_in_cluster"
   ]
  },
  {
   "cell_type": "markdown",
   "metadata": {},
   "source": [
    "compute ARI"
   ]
  },
  {
   "cell_type": "code",
   "execution_count": 7,
   "metadata": {},
   "outputs": [],
   "source": [
    "def compute_ari(contingency_table,sum_label_in_cluster,sum_cluster_in_label,n,output_file,mu,epsilon):\n",
    "    sum_c_nij_2=0\n",
    "    for i in range(len(contingency_table)):\n",
    "        for j in range(len(contingency_table[i])):\n",
    "            sum_c_nij_2+=math.comb(contingency_table[i][j],2)\n",
    "\n",
    "    sum_c_ai_2=0\n",
    "    for i in range(len(sum_label_in_cluster)):\n",
    "        sum_c_ai_2+=math.comb(sum_label_in_cluster[i],2)\n",
    "\n",
    "    sum_c_bj_2=0\n",
    "    for i in range(len(sum_cluster_in_label)):\n",
    "        sum_c_ai_2+=math.comb(sum_cluster_in_label[i],2)\n",
    "\n",
    "    c_n_2=math.comb(n,2)\n",
    "\n",
    "    d1=sum_c_nij_2-((sum_c_ai_2*sum_c_bj_2)/c_n_2)\n",
    "    d2=(sum_c_ai_2+sum_c_bj_2)/2-((sum_c_ai_2*sum_c_bj_2)/c_n_2)\n",
    "\n",
    "    ari=d1/d2\n",
    "    print('ARI: '+str(ari))\n",
    "\n",
    "    ofile=open(output_file,'a')\n",
    "    ofile.write('epsilon:'+epsilon+' mu:'+mu+' ARI: '+str(ari))\n",
    "    ofile.write('\\n')\n",
    "    ofile.close()"
   ]
  },
  {
   "cell_type": "code",
   "execution_count": 8,
   "metadata": {},
   "outputs": [],
   "source": [
    "def fast_ari(c1,c2,n,output_file,mu,epsilon):\n",
    "    sum_cluster_in_label=[]\n",
    "    for i in range(len(c2)):\n",
    "        sum_cluster_in_label.append(0)\n",
    "\n",
    "    sum_c_nij_2=0\n",
    "    sum_c_ai_2=0\n",
    "    for i in range(len(c1)):\n",
    "        if i%1000==0 :\n",
    "            print('i: '+str(i))\n",
    "        sum_label_in_cluster=0\n",
    "        for j in range(len(c2)):\n",
    "            sum=0\n",
    "            for e in c2[j]:\n",
    "                if e in c1[i].keys():\n",
    "                    sum+=1\n",
    "            sum_c_nij_2+=math.comb(sum,2)\n",
    "            sum_label_in_cluster+=sum\n",
    "            sum_cluster_in_label[j]+=sum\n",
    "        sum_c_ai_2+=math.comb(sum_label_in_cluster,2)\n",
    "\n",
    "    print('main table is constructed')\n",
    "\n",
    "    sum_c_bj_2=0\n",
    "    for i in range(len(sum_cluster_in_label)):\n",
    "        sum_c_ai_2+=math.comb(sum_cluster_in_label[i],2)\n",
    "\n",
    "    c_n_2=math.comb(n,2)\n",
    "\n",
    "    d1=sum_c_nij_2-((sum_c_ai_2*sum_c_bj_2)/c_n_2)\n",
    "    d2=(sum_c_ai_2+sum_c_bj_2)/2-((sum_c_ai_2*sum_c_bj_2)/c_n_2)\n",
    "\n",
    "    ari=d1/d2\n",
    "    print('ARI: '+str(ari))\n",
    "    ofile=open(output_file,'a')\n",
    "    ofile.write('epsilon:'+epsilon+' mu:'+mu+' ARI: '+str(ari))\n",
    "    ofile.write('\\n')\n",
    "    ofile.close()"
   ]
  },
  {
   "cell_type": "code",
   "execution_count": 9,
   "metadata": {},
   "outputs": [
    {
     "name": "stdout",
     "output_type": "stream",
     "text": [
      "2170260\n",
      "true label num: 11832\n",
      "cluster label num: 16786\n",
      "i: 0\n",
      "i: 1000\n",
      "i: 2000\n",
      "i: 3000\n",
      "i: 4000\n",
      "i: 5000\n",
      "i: 6000\n",
      "i: 7000\n",
      "i: 8000\n",
      "i: 9000\n",
      "i: 10000\n",
      "i: 11000\n",
      "main table is constructed\n",
      "b list is constructed\n",
      "a list is constructed\n",
      "i: 0\n",
      "i: 1000\n",
      "Unexpected exception formatting exception. Falling back to standard exception\n"
     ]
    },
    {
     "name": "stderr",
     "output_type": "stream",
     "text": [
      "Traceback (most recent call last):\n",
      "  File \"/home/hnu/anaconda3/lib/python3.11/site-packages/IPython/core/interactiveshell.py\", line 3526, in run_code\n",
      "    exec(code_obj, self.user_global_ns, self.user_ns)\n",
      "  File \"/tmp/ipykernel_370027/3047246374.py\", line 10, in <module>\n",
      "    fast_ari(c1,c2,n,output_file,mu[j],epsilon1[i])\n",
      "  File \"/tmp/ipykernel_370027/2229351682.py\", line -1, in fast_ari\n",
      "KeyboardInterrupt\n",
      "\n",
      "During handling of the above exception, another exception occurred:\n",
      "\n",
      "Traceback (most recent call last):\n",
      "  File \"/home/hnu/anaconda3/lib/python3.11/site-packages/IPython/core/interactiveshell.py\", line 2120, in showtraceback\n",
      "    stb = self.InteractiveTB.structured_traceback(\n",
      "          ^^^^^^^^^^^^^^^^^^^^^^^^^^^^^^^^^^^^^^^^\n",
      "  File \"/home/hnu/anaconda3/lib/python3.11/site-packages/IPython/core/ultratb.py\", line 1435, in structured_traceback\n",
      "    return FormattedTB.structured_traceback(\n",
      "           ^^^^^^^^^^^^^^^^^^^^^^^^^^^^^^^^^\n",
      "  File \"/home/hnu/anaconda3/lib/python3.11/site-packages/IPython/core/ultratb.py\", line 1326, in structured_traceback\n",
      "    return VerboseTB.structured_traceback(\n",
      "           ^^^^^^^^^^^^^^^^^^^^^^^^^^^^^^^\n",
      "  File \"/home/hnu/anaconda3/lib/python3.11/site-packages/IPython/core/ultratb.py\", line 1173, in structured_traceback\n",
      "    formatted_exception = self.format_exception_as_a_whole(etype, evalue, etb, number_of_lines_of_context,\n",
      "                          ^^^^^^^^^^^^^^^^^^^^^^^^^^^^^^^^^^^^^^^^^^^^^^^^^^^^^^^^^^^^^^^^^^^^^^^^^^^^^^^^\n",
      "  File \"/home/hnu/anaconda3/lib/python3.11/site-packages/IPython/core/ultratb.py\", line 1088, in format_exception_as_a_whole\n",
      "    frames.append(self.format_record(record))\n",
      "                  ^^^^^^^^^^^^^^^^^^^^^^^^^^\n",
      "  File \"/home/hnu/anaconda3/lib/python3.11/site-packages/IPython/core/ultratb.py\", line 970, in format_record\n",
      "    frame_info.lines, Colors, self.has_colors, lvals\n",
      "    ^^^^^^^^^^^^^^^^\n",
      "  File \"/home/hnu/anaconda3/lib/python3.11/site-packages/IPython/core/ultratb.py\", line 792, in lines\n",
      "    return self._sd.lines\n",
      "           ^^^^^^^^^^^^^^\n",
      "  File \"/home/hnu/anaconda3/lib/python3.11/site-packages/stack_data/utils.py\", line 145, in cached_property_wrapper\n",
      "    value = obj.__dict__[self.func.__name__] = self.func(obj)\n",
      "                                               ^^^^^^^^^^^^^^\n",
      "  File \"/home/hnu/anaconda3/lib/python3.11/site-packages/stack_data/core.py\", line 698, in lines\n",
      "    pieces = self.included_pieces\n",
      "             ^^^^^^^^^^^^^^^^^^^^\n",
      "  File \"/home/hnu/anaconda3/lib/python3.11/site-packages/stack_data/utils.py\", line 145, in cached_property_wrapper\n",
      "    value = obj.__dict__[self.func.__name__] = self.func(obj)\n",
      "                                               ^^^^^^^^^^^^^^\n",
      "  File \"/home/hnu/anaconda3/lib/python3.11/site-packages/stack_data/core.py\", line 649, in included_pieces\n",
      "    pos = scope_pieces.index(self.executing_piece)\n",
      "                             ^^^^^^^^^^^^^^^^^^^^\n",
      "  File \"/home/hnu/anaconda3/lib/python3.11/site-packages/stack_data/utils.py\", line 145, in cached_property_wrapper\n",
      "    value = obj.__dict__[self.func.__name__] = self.func(obj)\n",
      "                                               ^^^^^^^^^^^^^^\n",
      "  File \"/home/hnu/anaconda3/lib/python3.11/site-packages/stack_data/core.py\", line 628, in executing_piece\n",
      "    return only(\n",
      "           ^^^^^\n",
      "  File \"/home/hnu/anaconda3/lib/python3.11/site-packages/executing/executing.py\", line 164, in only\n",
      "    raise NotOneValueFound('Expected one value, found 0')\n",
      "executing.executing.NotOneValueFound: Expected one value, found 0\n"
     ]
    }
   ],
   "source": [
    "n=read_graph(hypergraph)\n",
    "for i in range(len(epsilon1)):\n",
    "    for j in range(len(mu)):\n",
    "        cluster1=cluster_path+'_'+mu[j]+'_'+epsilon1[i]+'.csv'\n",
    "        cluster2=cluster_path+'_'+mu[j]+'_'+epsilon2[i]+'.csv'\n",
    "        c1=read_label(cluster1,n)\n",
    "        c2=read_cluster(cluster2,n)\n",
    "        # contingency_table,sum_cluster_in_label,sum_label_in_cluster=construct_table(c1,c2)\n",
    "        # compute_ari(contingency_table,sum_label_in_cluster,sum_cluster_in_label,n,output_file,mu[j],epsilon1[i])\n",
    "        fast_ari(c1,c2,n,output_file,mu[j],epsilon1[i])"
   ]
  }
 ],
 "metadata": {
  "kernelspec": {
   "display_name": "base",
   "language": "python",
   "name": "python3"
  },
  "language_info": {
   "codemirror_mode": {
    "name": "ipython",
    "version": 3
   },
   "file_extension": ".py",
   "mimetype": "text/x-python",
   "name": "python",
   "nbconvert_exporter": "python",
   "pygments_lexer": "ipython3",
   "version": "3.11.5"
  }
 },
 "nbformat": 4,
 "nbformat_minor": 2
}
