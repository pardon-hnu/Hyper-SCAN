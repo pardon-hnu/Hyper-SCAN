{
 "cells": [
  {
   "cell_type": "code",
   "execution_count": 1,
   "metadata": {},
   "outputs": [],
   "source": [
    "import io\n",
    "import sys\n",
    "import string\n",
    "import argparse\n",
    "from cmath import inf\n",
    "import os\n",
    "import re"
   ]
  },
  {
   "cell_type": "markdown",
   "metadata": {},
   "source": [
    "Set hypergraph's path"
   ]
  },
  {
   "cell_type": "code",
   "execution_count": 2,
   "metadata": {},
   "outputs": [
    {
     "name": "stdout",
     "output_type": "stream",
     "text": [
      "['rpa_t130000000']\n"
     ]
    }
   ],
   "source": [
    "hypergraph_list=[\n",
    "    # '/home/hnu/Disk0/ParDon/hypergraph/vldb23NeighborCore/real/Enron.hyp',\n",
    "    # '/home/hnu/Disk0/ParDon/hypergraph/vldb23NeighborCore/real/contact-primary-school.hyp',\n",
    "    # '/home/hnu/Disk0/ParDon/hypergraph/vldb23NeighborCore/real/congress-bills.hyp',\n",
    "    # '/home/hnu/Disk0/ParDon/Code/HSCAN/my_cpp12_hash/data/datasets/real2/NDC-substances.hyp',\n",
    "    # '/home/hnu/Disk0/ParDon/hypergraph/vldb23NeighborCore/real/DBLP.hyp',\n",
    "    # '/home/hnu/Disk0/ParDon/hypergraph/vldb23NeighborCore/real/aminer.hyp',\n",
    "    # '/home/hnu/Disk0/ParDon/Code/HSCAN/my_cpp12_hash/data/datasets/real2/tags-ask-ubuntu.hyp'\n",
    "    # '/home/hnu/Disk0/ParDon/Code/HSCAN/my_cpp12_hash/data/datasets/real2/threads-ask-ubuntu.hyp'\n",
    "    '/home/hnu/Disk0/ParDon/hypergraph/sythesis/rpa_t130000000.hyp'\n",
    "]\n",
    "\n",
    "dataset_name=[]\n",
    "for hypergraph in hypergraph_list:\n",
    "    temp=re.split('/',hypergraph)\n",
    "    hyp_name=temp[len(temp)-1]\n",
    "    name=hyp_name.split('.')\n",
    "    dataset_name.append(name[0])\n",
    "\n",
    "print(dataset_name)"
   ]
  },
  {
   "cell_type": "markdown",
   "metadata": {},
   "source": [
    "Hypergraph to General graph"
   ]
  },
  {
   "cell_type": "code",
   "execution_count": 3,
   "metadata": {},
   "outputs": [
    {
     "name": "stdout",
     "output_type": "stream",
     "text": [
      "==========================================================\n",
      "now deal hypergraph: rpa_t130000000\n",
      "==========================================================\n",
      "construct link index\n",
      "==========================================================\n",
      "construct adj and deg of general graph\n",
      "general graph: rpa_t130000000 has 91002142 vertex and 624017326 edges(directed) or 312008663.0 edges(undirected)\n",
      "==========================================================\n",
      "output b_degree.bin and b_adj.bin\n"
     ]
    }
   ],
   "source": [
    "for i in range(len(hypergraph_list)):\n",
    "# for i in range(1):\n",
    "    print('==========================================================')\n",
    "    print('now deal hypergraph: '+dataset_name[i])\n",
    "    infile=open(hypergraph_list[i],'r')\n",
    "    hyperedges=[]\n",
    "    gs=0\n",
    "    for line in infile:\n",
    "        temp_string=line.strip('\\n')\n",
    "        temp=re.split(',',temp_string)\n",
    "        edge=[]\n",
    "        if len(temp)!=0:\n",
    "            for node in temp:\n",
    "                edge.append(int(node))\n",
    "                if int(node)>gs:\n",
    "                    gs=int(node)\n",
    "        hyperedges.append(edge)\n",
    "    gs+=1\n",
    "    infile.close()\n",
    "    print('==========================================================')\n",
    "    print('construct link index')\n",
    "    vertex=[]\n",
    "    for j in range(gs):\n",
    "        vertex.append([])\n",
    "    for j in range(len(hyperedges)):   \n",
    "        for node in hyperedges[j]:\n",
    "            vertex[node].append(j)\n",
    "\n",
    "    print('==========================================================')\n",
    "    print('construct adj and deg of general graph')\n",
    "    adj=[]\n",
    "    deg=[]\n",
    "    en=0\n",
    "    for j in range(len(vertex)):\n",
    "        neighbors=set()\n",
    "        for e in vertex[j]:\n",
    "            for nei in hyperedges[e]:\n",
    "                if nei!=j:\n",
    "                    neighbors.add(nei)\n",
    "        deg.append(len(neighbors))\n",
    "        en+=len(neighbors)\n",
    "        neigh_list=sorted(list(neighbors))\n",
    "        adj.append(neigh_list)\n",
    "    print('general graph: '+dataset_name[i]+' has '+str(gs)+' vertex and '+str(en)+' edges(directed) or '+str(en/2)+' edges(undirected)')\n",
    "    print('==========================================================')\n",
    "    print('output b_degree.bin and b_adj.bin')\n",
    "    if not os.path.exists(dataset_name[i]):\n",
    "        os.makedirs(dataset_name[i])\n",
    "    deg_file=dataset_name[i]+'/b_degree.bin'\n",
    "    adj_file=dataset_name[i]+'/b_adj.bin'\n",
    "    ofile1=open(deg_file,'wb')\n",
    "    ofile2=open(adj_file,'wb')\n",
    "    ofile1.write(int.to_bytes(4,4,'little'))\n",
    "    ofile1.write(int.to_bytes(gs,4,'little'))\n",
    "    ofile1.write(int.to_bytes(en,4,'little'))\n",
    "    for j in range(gs):\n",
    "        ofile1.write(int.to_bytes(deg[j],4,'little'))\n",
    "        for nei in adj[j]:\n",
    "            ofile2.write(int.to_bytes(nei,4,'little'))\n",
    "    ofile1.close()\n",
    "    ofile2.close()\n"
   ]
  }
 ],
 "metadata": {
  "kernelspec": {
   "display_name": "base",
   "language": "python",
   "name": "python3"
  },
  "language_info": {
   "codemirror_mode": {
    "name": "ipython",
    "version": 3
   },
   "file_extension": ".py",
   "mimetype": "text/x-python",
   "name": "python",
   "nbconvert_exporter": "python",
   "pygments_lexer": "ipython3",
   "version": "3.11.5"
  }
 },
 "nbformat": 4,
 "nbformat_minor": 2
}
