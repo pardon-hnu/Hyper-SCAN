{
 "cells": [
  {
   "cell_type": "code",
   "execution_count": 7,
   "metadata": {},
   "outputs": [],
   "source": [
    "import sys\n",
    "sys.path.append(\"..\")\n",
    "import argparse\n",
    "from cmath import inf\n",
    "import os\n",
    "import string\n",
    "import re\n",
    "import random\n",
    "import networkx as nx\n",
    "import matplotlib.pyplot as plt"
   ]
  },
  {
   "cell_type": "markdown",
   "metadata": {},
   "source": [
    "Global variables"
   ]
  },
  {
   "cell_type": "code",
   "execution_count": 8,
   "metadata": {},
   "outputs": [],
   "source": [
    "graph_list=[\n",
    "    '../datasets/Enron.hyp',\n",
    "    '../datasets/contact-primary-school.hyp',\n",
    "    '../datasets/congress-bills.hyp',\n",
    "    '../datasets/NDC-substances.hyp',\n",
    "    '../datasets/DBLP.hyp',\n",
    "    '../datasets/aminer.hyp',\n",
    "    '../datasets/rpa_t130000000.hyp',\n",
    "    '../datasets/threads-ask-ubuntu.hyp',\n",
    "]"
   ]
  },
  {
   "cell_type": "markdown",
   "metadata": {},
   "source": [
    "Read hypergraph and print its information:"
   ]
  },
  {
   "cell_type": "code",
   "execution_count": 10,
   "metadata": {},
   "outputs": [
    {
     "name": "stdout",
     "output_type": "stream",
     "text": [
      "==========================================================\n",
      "/home/hnu/Disk0/ParDon/Code/HSCAN/my_cpp12_hash/data/datasets/real2/tags-ask-ubuntu.hyp\n",
      "==========================================================\n",
      "|V|: 3029 |E|: 271233\n"
     ]
    },
    {
     "ename": "KeyboardInterrupt",
     "evalue": "",
     "output_type": "error",
     "traceback": [
      "\u001b[0;31m---------------------------------------------------------------------------\u001b[0m",
      "\u001b[0;31mKeyboardInterrupt\u001b[0m                         Traceback (most recent call last)",
      "Cell \u001b[0;32mIn[10], line 45\u001b[0m\n\u001b[1;32m     43\u001b[0m         \u001b[38;5;28;01mfor\u001b[39;00m nei \u001b[38;5;129;01min\u001b[39;00m vertex[v]:\n\u001b[1;32m     44\u001b[0m             \u001b[38;5;28;01mif\u001b[39;00m nei\u001b[38;5;241m!=\u001b[39mi:\n\u001b[0;32m---> 45\u001b[0m                 neighbors\u001b[38;5;241m.\u001b[39madd(nei)\n\u001b[1;32m     46\u001b[0m     M\u001b[38;5;241m+\u001b[39m\u001b[38;5;241m=\u001b[39m\u001b[38;5;28mlen\u001b[39m(neighbors)\n\u001b[1;32m     47\u001b[0m M\u001b[38;5;241m/\u001b[39m\u001b[38;5;241m=\u001b[39m\u001b[38;5;241m2\u001b[39m\n",
      "\u001b[0;31mKeyboardInterrupt\u001b[0m: "
     ]
    }
   ],
   "source": [
    "for hypergraph in graph_list:\n",
    "    print('==========================================================')\n",
    "    print(hypergraph)\n",
    "    print('==========================================================')\n",
    "    hyperedge=[]\n",
    "    v_set=set()\n",
    "    gs=0\n",
    "    infile=open(hypergraph)\n",
    "    for line in infile:\n",
    "        temp_string=line.strip('\\n')\n",
    "        temp=re.split(',',temp_string)\n",
    "        edge=[]\n",
    "        if len(temp)!=0:\n",
    "            for node in temp:\n",
    "                if node!='':\n",
    "                    edge.append(int(node))\n",
    "                    if int(node)>gs:\n",
    "                        gs=int(node)\n",
    "                    v_set.add(int(node))\n",
    "        hyperedge.append(edge)\n",
    "    gs+=1\n",
    "    print('|V|: '+str(len(v_set))+' |E|: '+str(len(hyperedge)))\n",
    "    vertex=[]\n",
    "    for i in range(gs):\n",
    "        vertex.append([])\n",
    "    \n",
    "    avg_e=0\n",
    "    for i in range(len(hyperedge)):\n",
    "        for v in hyperedge[i]:\n",
    "            vertex[v].append(i)\n",
    "        avg_e+=len(hyperedge[i])\n",
    "    avg_e/=len(hyperedge)\n",
    "\n",
    "    avg_dv=0\n",
    "    for i in range(gs):\n",
    "        avg_dv+=len(vertex[i])\n",
    "    avg_dv/=len(v_set)\n",
    "    \n",
    "    M=0\n",
    "    for i in range(len(hyperedge)):\n",
    "        neighbors=set()\n",
    "        for v in hyperedge[i]:\n",
    "            for nei in vertex[v]:\n",
    "                if nei!=i:\n",
    "                    neighbors.add(nei)\n",
    "        M+=len(neighbors)\n",
    "    M/=2\n",
    "    print('average d(v): '+str(avg_dv))\n",
    "    print('average |V(e)|: '+str(avg_e))\n",
    "    print('|M|: '+str(M))\n",
    "    # print('==========================================================')\n",
    "    infile.close()"
   ]
  },
  {
   "cell_type": "code",
   "execution_count": null,
   "metadata": {},
   "outputs": [],
   "source": []
  }
 ],
 "metadata": {
  "kernelspec": {
   "display_name": "base",
   "language": "python",
   "name": "python3"
  },
  "language_info": {
   "codemirror_mode": {
    "name": "ipython",
    "version": 3
   },
   "file_extension": ".py",
   "mimetype": "text/x-python",
   "name": "python",
   "nbconvert_exporter": "python",
   "pygments_lexer": "ipython3",
   "version": "3.11.5"
  }
 },
 "nbformat": 4,
 "nbformat_minor": 2
}
